{
 "cells": [
  {
   "cell_type": "markdown",
   "id": "8bbae9fe",
   "metadata": {},
   "source": [
    "# Mercor ML Engineer Role Vetting Project\n",
    "\n",
    "The aim of the project is to build an ML model that takes a product description as input and outputs the top 10 similar product links."
   ]
  },
  {
   "cell_type": "markdown",
   "id": "bd8c532a",
   "metadata": {},
   "source": [
    "## Import the necessary libraries\n",
    "For this project, I'm using the pandas library for handling and cleaning data that is present in a csv format. The nltk library which contains useful functions related to human language processing, and the gensim library to extract features from the product descriptions. The scikit-learn library is also used perform a random shuffle of the dataset."
   ]
  },
  {
   "cell_type": "code",
   "execution_count": 46,
   "id": "1a178db2",
   "metadata": {},
   "outputs": [],
   "source": [
    "import pandas as pd\n",
    "import numpy as np\n",
    "import multiprocessing\n",
    "from nltk.corpus import stopwords\n",
    "from nltk.tokenize import word_tokenize\n",
    "from gensim.models.doc2vec import Doc2Vec, TaggedDocument\n",
    "from sklearn.utils import shuffle"
   ]
  },
  {
   "cell_type": "code",
   "execution_count": 6,
   "id": "b126e4c6",
   "metadata": {},
   "outputs": [],
   "source": [
    "english_stopwords = stopwords.words('english') #gather a list of english stopwords that is built-in to the nltk library.\n",
    "english_stopwords.extend(['ikat', 'aline', '&']) #extend the list of stopwords to include special words in the dataset."
   ]
  },
  {
   "cell_type": "code",
   "execution_count": 7,
   "id": "31fbef03",
   "metadata": {},
   "outputs": [],
   "source": [
    "def remove_stop_words(string):\n",
    "    \"\"\"A helper function to remove commonly occuring stopping words such as 'and', 'with', 'of', etc. that may\n",
    "       frequently occur in a set of sentences from a given string.\n",
    "       input: a string of words\n",
    "       returns: input without stopping words.\"\"\"\n",
    "    tokens = word_tokenize(str(string))\n",
    "    tokens_wo_stops = [t for t in tokens if t not in english_stopwords]\n",
    "    clean_string = \" \".join(tokens_wo_stops)\n",
    "    return clean_string"
   ]
  },
  {
   "cell_type": "markdown",
   "id": "10aff660",
   "metadata": {},
   "source": [
    "## Myntra Dataset Cleaning\n",
    "This dataset contains product information from the e-commerce website Myntra, which is one of India's largest online fashion retail store. This dataset is available on Kaggle.\n",
    "\n",
    "https://www.kaggle.com/datasets/manishmathias/myntra-fashion-dataset"
   ]
  },
  {
   "cell_type": "code",
   "execution_count": 8,
   "id": "13828f54",
   "metadata": {},
   "outputs": [
    {
     "data": {
      "text/html": [
       "<div>\n",
       "<style scoped>\n",
       "    .dataframe tbody tr th:only-of-type {\n",
       "        vertical-align: middle;\n",
       "    }\n",
       "\n",
       "    .dataframe tbody tr th {\n",
       "        vertical-align: top;\n",
       "    }\n",
       "\n",
       "    .dataframe thead th {\n",
       "        text-align: right;\n",
       "    }\n",
       "</style>\n",
       "<table border=\"1\" class=\"dataframe\">\n",
       "  <thead>\n",
       "    <tr style=\"text-align: right;\">\n",
       "      <th></th>\n",
       "      <th>URL</th>\n",
       "      <th>BrandName</th>\n",
       "      <th>Description</th>\n",
       "    </tr>\n",
       "  </thead>\n",
       "  <tbody>\n",
       "    <tr>\n",
       "      <th>0</th>\n",
       "      <td>https://www.myntra.com/jeans/roadster/roadster...</td>\n",
       "      <td>Roadster</td>\n",
       "      <td>roadster men navy blue slim fit mid rise clean...</td>\n",
       "    </tr>\n",
       "    <tr>\n",
       "      <th>1</th>\n",
       "      <td>https://www.myntra.com/track-pants/locomotive/...</td>\n",
       "      <td>LOCOMOTIVE</td>\n",
       "      <td>locomotive men black  white solid slim fit tra...</td>\n",
       "    </tr>\n",
       "    <tr>\n",
       "      <th>2</th>\n",
       "      <td>https://www.myntra.com/shirts/roadster/roadste...</td>\n",
       "      <td>Roadster</td>\n",
       "      <td>roadster men navy white  black geometric print...</td>\n",
       "    </tr>\n",
       "    <tr>\n",
       "      <th>3</th>\n",
       "      <td>https://www.myntra.com/shapewear/zivame/zivame...</td>\n",
       "      <td>Zivame</td>\n",
       "      <td>zivame women black saree shapewear zi3023core0...</td>\n",
       "    </tr>\n",
       "    <tr>\n",
       "      <th>4</th>\n",
       "      <td>https://www.myntra.com/tshirts/roadster/roadst...</td>\n",
       "      <td>Roadster</td>\n",
       "      <td>roadster women white solid v neck pure cotton ...</td>\n",
       "    </tr>\n",
       "  </tbody>\n",
       "</table>\n",
       "</div>"
      ],
      "text/plain": [
       "                                                 URL   BrandName   \n",
       "0  https://www.myntra.com/jeans/roadster/roadster...    Roadster  \\\n",
       "1  https://www.myntra.com/track-pants/locomotive/...  LOCOMOTIVE   \n",
       "2  https://www.myntra.com/shirts/roadster/roadste...    Roadster   \n",
       "3  https://www.myntra.com/shapewear/zivame/zivame...      Zivame   \n",
       "4  https://www.myntra.com/tshirts/roadster/roadst...    Roadster   \n",
       "\n",
       "                                         Description  \n",
       "0  roadster men navy blue slim fit mid rise clean...  \n",
       "1  locomotive men black  white solid slim fit tra...  \n",
       "2  roadster men navy white  black geometric print...  \n",
       "3  zivame women black saree shapewear zi3023core0...  \n",
       "4  roadster women white solid v neck pure cotton ...  "
      ]
     },
     "execution_count": 8,
     "metadata": {},
     "output_type": "execute_result"
    }
   ],
   "source": [
    "dfm = pd.read_csv('../datasets/myntra_dataset.csv', usecols=['URL', 'Description', 'BrandName'])\n",
    "dfm.head()"
   ]
  },
  {
   "cell_type": "code",
   "execution_count": 9,
   "id": "b4681dcf",
   "metadata": {},
   "outputs": [],
   "source": [
    "dfm.columns = ['url', 'brand', 'desc'] #rename column names for better accessibility."
   ]
  },
  {
   "cell_type": "code",
   "execution_count": 10,
   "id": "5fd54150",
   "metadata": {},
   "outputs": [],
   "source": [
    "dfm['brand'], dfm['desc'] = dfm['brand'].str.lower(), dfm['desc'].str.lower() #convert columns to lower case."
   ]
  },
  {
   "cell_type": "code",
   "execution_count": 11,
   "id": "74a719f0",
   "metadata": {},
   "outputs": [],
   "source": [
    "dfm['brand'] = dfm['brand'].str.replace('here&now', 'herenow') #replace a pesky brand name that is not consistent with the rest."
   ]
  },
  {
   "cell_type": "code",
   "execution_count": 12,
   "id": "1eb4d941",
   "metadata": {},
   "outputs": [],
   "source": [
    "dfm['brand'] = dfm['brand'].str.replace('&', '') #replace the '&' character in brand name with empty string for better handling.\n",
    "dfm['desc'] = dfm['desc'].str.replace('-', '') #replace commonly occuring hyphen with empty string for better model performance."
   ]
  },
  {
   "cell_type": "code",
   "execution_count": 13,
   "id": "1939ae6a",
   "metadata": {},
   "outputs": [],
   "source": [
    "dfm['desc'] = dfm.apply(lambda row : row['desc'].replace(str(row['brand']), ''), axis=1) #remove brand name from product descriptions."
   ]
  },
  {
   "cell_type": "code",
   "execution_count": 14,
   "id": "231eee80",
   "metadata": {},
   "outputs": [],
   "source": [
    "dfm_copy = dfm.copy()\n",
    "dfm['desc'] = dfm['desc'].str.replace(r'(\\s[A-Za-z]){1}\\s{1}(\\w+)', r'\\1\\2', regex=True) #combine commonly occurring words such as 't shirt', 'v neck'."
   ]
  },
  {
   "cell_type": "code",
   "execution_count": 15,
   "id": "c28e0309",
   "metadata": {},
   "outputs": [],
   "source": [
    "dfm_copy = dfm.copy() #create a backup in case something goes wrong."
   ]
  },
  {
   "cell_type": "code",
   "execution_count": 52,
   "id": "a5df66ec",
   "metadata": {},
   "outputs": [],
   "source": [
    "dfm['desc'] = dfm['desc'].apply(remove_stop_words) #remove stop words in product descriptions using the remove_stop_words function."
   ]
  },
  {
   "cell_type": "code",
   "execution_count": 21,
   "id": "6314ccba",
   "metadata": {},
   "outputs": [
    {
     "data": {
      "text/html": [
       "<div>\n",
       "<style scoped>\n",
       "    .dataframe tbody tr th:only-of-type {\n",
       "        vertical-align: middle;\n",
       "    }\n",
       "\n",
       "    .dataframe tbody tr th {\n",
       "        vertical-align: top;\n",
       "    }\n",
       "\n",
       "    .dataframe thead th {\n",
       "        text-align: right;\n",
       "    }\n",
       "</style>\n",
       "<table border=\"1\" class=\"dataframe\">\n",
       "  <thead>\n",
       "    <tr style=\"text-align: right;\">\n",
       "      <th></th>\n",
       "      <th>url</th>\n",
       "      <th>brand</th>\n",
       "      <th>desc</th>\n",
       "    </tr>\n",
       "  </thead>\n",
       "  <tbody>\n",
       "    <tr>\n",
       "      <th>500</th>\n",
       "      <td>https://www.myntra.com/shirts/highlander/highl...</td>\n",
       "      <td>highlander</td>\n",
       "      <td>men black slim fit casual shirt</td>\n",
       "    </tr>\n",
       "    <tr>\n",
       "      <th>501</th>\n",
       "      <td>https://www.myntra.com/tops/pluss/pluss-women-...</td>\n",
       "      <td>pluss</td>\n",
       "      <td>women blue printed peplum top</td>\n",
       "    </tr>\n",
       "    <tr>\n",
       "      <th>502</th>\n",
       "      <td>https://www.myntra.com/dresses/pluss/pluss-wom...</td>\n",
       "      <td>pluss</td>\n",
       "      <td>women red embroidered fit  flare dress</td>\n",
       "    </tr>\n",
       "    <tr>\n",
       "      <th>503</th>\n",
       "      <td>https://www.myntra.com/shorts/dressberry/dress...</td>\n",
       "      <td>dressberry</td>\n",
       "      <td>women stylish black solid fringed shorts</td>\n",
       "    </tr>\n",
       "    <tr>\n",
       "      <th>504</th>\n",
       "      <td>https://www.myntra.com/dresses/street-9/street...</td>\n",
       "      <td>street 9</td>\n",
       "      <td>navy blue one shoulder fit  flare dress</td>\n",
       "    </tr>\n",
       "    <tr>\n",
       "      <th>...</th>\n",
       "      <td>...</td>\n",
       "      <td>...</td>\n",
       "      <td>...</td>\n",
       "    </tr>\n",
       "    <tr>\n",
       "      <th>595</th>\n",
       "      <td>https://www.myntra.com/trousers/invictus/invic...</td>\n",
       "      <td>invictus</td>\n",
       "      <td>black slim fit formal trousers</td>\n",
       "    </tr>\n",
       "    <tr>\n",
       "      <th>596</th>\n",
       "      <td>https://www.myntra.com/jackets/hrx-by-hrithik-...</td>\n",
       "      <td>hrx by hrithik roshan</td>\n",
       "      <td>hrx active by hrithik roshan men grey solid sp...</td>\n",
       "    </tr>\n",
       "    <tr>\n",
       "      <th>597</th>\n",
       "      <td>https://www.myntra.com/jackets/highlander/high...</td>\n",
       "      <td>highlander</td>\n",
       "      <td>men blue solid denim jacket jacket</td>\n",
       "    </tr>\n",
       "    <tr>\n",
       "      <th>598</th>\n",
       "      <td>https://www.myntra.com/shirts/highlander/highl...</td>\n",
       "      <td>highlander</td>\n",
       "      <td>men rust slim fit solid casual shirt</td>\n",
       "    </tr>\n",
       "    <tr>\n",
       "      <th>599</th>\n",
       "      <td>https://www.myntra.com/dresses/anouk/anouk-wom...</td>\n",
       "      <td>anouk</td>\n",
       "      <td>women mustard printed fit and flare dress</td>\n",
       "    </tr>\n",
       "  </tbody>\n",
       "</table>\n",
       "<p>100 rows × 3 columns</p>\n",
       "</div>"
      ],
      "text/plain": [
       "                                                   url                  brand   \n",
       "500  https://www.myntra.com/shirts/highlander/highl...             highlander  \\\n",
       "501  https://www.myntra.com/tops/pluss/pluss-women-...                  pluss   \n",
       "502  https://www.myntra.com/dresses/pluss/pluss-wom...                  pluss   \n",
       "503  https://www.myntra.com/shorts/dressberry/dress...             dressberry   \n",
       "504  https://www.myntra.com/dresses/street-9/street...               street 9   \n",
       "..                                                 ...                    ...   \n",
       "595  https://www.myntra.com/trousers/invictus/invic...               invictus   \n",
       "596  https://www.myntra.com/jackets/hrx-by-hrithik-...  hrx by hrithik roshan   \n",
       "597  https://www.myntra.com/jackets/highlander/high...             highlander   \n",
       "598  https://www.myntra.com/shirts/highlander/highl...             highlander   \n",
       "599  https://www.myntra.com/dresses/anouk/anouk-wom...                  anouk   \n",
       "\n",
       "                                                  desc  \n",
       "500                    men black slim fit casual shirt  \n",
       "501                      women blue printed peplum top  \n",
       "502             women red embroidered fit  flare dress  \n",
       "503           women stylish black solid fringed shorts  \n",
       "504            navy blue one shoulder fit  flare dress  \n",
       "..                                                 ...  \n",
       "595                     black slim fit formal trousers  \n",
       "596  hrx active by hrithik roshan men grey solid sp...  \n",
       "597                 men blue solid denim jacket jacket  \n",
       "598               men rust slim fit solid casual shirt  \n",
       "599          women mustard printed fit and flare dress  \n",
       "\n",
       "[100 rows x 3 columns]"
      ]
     },
     "execution_count": 21,
     "metadata": {},
     "output_type": "execute_result"
    }
   ],
   "source": [
    "dfm.head()"
   ]
  },
  {
   "cell_type": "markdown",
   "id": "5a36668b",
   "metadata": {},
   "source": [
    "## Ajio Dataset Cleaning\n",
    "This dataset contains product information from the ecommerce website Ajio, which is another large online fashion retailer in India that is owned by the Reliance corporation. This dataset too is available on Kaggle.\n",
    "\n",
    "https://www.kaggle.com/datasets/manishmathias/ajio-clothing-fashion"
   ]
  },
  {
   "cell_type": "code",
   "execution_count": 57,
   "id": "cea92a6d",
   "metadata": {},
   "outputs": [
    {
     "data": {
      "text/html": [
       "<div>\n",
       "<style scoped>\n",
       "    .dataframe tbody tr th:only-of-type {\n",
       "        vertical-align: middle;\n",
       "    }\n",
       "\n",
       "    .dataframe tbody tr th {\n",
       "        vertical-align: top;\n",
       "    }\n",
       "\n",
       "    .dataframe thead th {\n",
       "        text-align: right;\n",
       "    }\n",
       "</style>\n",
       "<table border=\"1\" class=\"dataframe\">\n",
       "  <thead>\n",
       "    <tr style=\"text-align: right;\">\n",
       "      <th></th>\n",
       "      <th>Product_URL</th>\n",
       "      <th>Description</th>\n",
       "      <th>Category_by_gender</th>\n",
       "      <th>Color</th>\n",
       "    </tr>\n",
       "  </thead>\n",
       "  <tbody>\n",
       "    <tr>\n",
       "      <th>0</th>\n",
       "      <td>https://www.ajio.com/netplay-checked-polo-t-sh...</td>\n",
       "      <td>Checked Polo T-shirt</td>\n",
       "      <td>Men</td>\n",
       "      <td>white</td>\n",
       "    </tr>\n",
       "    <tr>\n",
       "      <th>1</th>\n",
       "      <td>https://www.ajio.com/netplay-tapered-fit-flat-...</td>\n",
       "      <td>Tapered Fit Flat-Front Trousers</td>\n",
       "      <td>Men</td>\n",
       "      <td>navy</td>\n",
       "    </tr>\n",
       "    <tr>\n",
       "      <th>2</th>\n",
       "      <td>https://www.ajio.com/the-indian-garage-co-stri...</td>\n",
       "      <td>Striped Slim Fit Shirt with Patch Pocket</td>\n",
       "      <td>Men</td>\n",
       "      <td>white</td>\n",
       "    </tr>\n",
       "    <tr>\n",
       "      <th>3</th>\n",
       "      <td>https://www.ajio.com/performax-heathered-crew-...</td>\n",
       "      <td>Heathered Crew-Neck T-shirt</td>\n",
       "      <td>Men</td>\n",
       "      <td>charcoal</td>\n",
       "    </tr>\n",
       "    <tr>\n",
       "      <th>4</th>\n",
       "      <td>https://www.ajio.com/john-players-jeans-washed...</td>\n",
       "      <td>Washed Skinny Fit Jeans with Whiskers</td>\n",
       "      <td>Men</td>\n",
       "      <td>jetblack</td>\n",
       "    </tr>\n",
       "  </tbody>\n",
       "</table>\n",
       "</div>"
      ],
      "text/plain": [
       "                                         Product_URL   \n",
       "0  https://www.ajio.com/netplay-checked-polo-t-sh...  \\\n",
       "1  https://www.ajio.com/netplay-tapered-fit-flat-...   \n",
       "2  https://www.ajio.com/the-indian-garage-co-stri...   \n",
       "3  https://www.ajio.com/performax-heathered-crew-...   \n",
       "4  https://www.ajio.com/john-players-jeans-washed...   \n",
       "\n",
       "                                Description Category_by_gender     Color  \n",
       "0                      Checked Polo T-shirt                Men     white  \n",
       "1           Tapered Fit Flat-Front Trousers                Men      navy  \n",
       "2  Striped Slim Fit Shirt with Patch Pocket                Men     white  \n",
       "3               Heathered Crew-Neck T-shirt                Men  charcoal  \n",
       "4     Washed Skinny Fit Jeans with Whiskers                Men  jetblack  "
      ]
     },
     "execution_count": 57,
     "metadata": {},
     "output_type": "execute_result"
    }
   ],
   "source": [
    "dfa = pd.read_csv('../datasets/ajio_dataset.csv', usecols=['Product_URL', 'Description', 'Color', 'Category_by_gender'])\n",
    "dfa.head()"
   ]
  },
  {
   "cell_type": "code",
   "execution_count": 59,
   "id": "0061e869",
   "metadata": {},
   "outputs": [],
   "source": [
    "dfa.columns = ['url', 'desc', 'gender', 'color'] #change column names for better accessibility."
   ]
  },
  {
   "cell_type": "code",
   "execution_count": 60,
   "id": "1f9fb199",
   "metadata": {},
   "outputs": [],
   "source": [
    "dfa['desc'], dfa['gender'], dfa['color'] = dfa['desc'].str.lower(), dfa['gender'].str.lower(), dfa['color'].str.lower() #convert columns to lower case."
   ]
  },
  {
   "cell_type": "code",
   "execution_count": 62,
   "id": "a87c3709",
   "metadata": {},
   "outputs": [],
   "source": [
    "dfa_copy = dfa.copy() #create a copy in case something goes wrong."
   ]
  },
  {
   "cell_type": "code",
   "execution_count": 63,
   "id": "02687e48",
   "metadata": {},
   "outputs": [],
   "source": [
    "dfa['desc'] = dfa['desc'].str.replace('-', '') #replace commonly occurring hyphen with empty string for better model performance."
   ]
  },
  {
   "cell_type": "code",
   "execution_count": 66,
   "id": "1cccae79",
   "metadata": {},
   "outputs": [],
   "source": [
    "dfa['desc'] = dfa['desc'].str.replace('dresss', 'dress') #correct the spelling for dress."
   ]
  },
  {
   "cell_type": "code",
   "execution_count": 68,
   "id": "1624f357",
   "metadata": {},
   "outputs": [],
   "source": [
    "#combine the three columns into a single product description that is in the same format of the myntra dataset descriptions.\n",
    "dfa['desc'] = dfa['gender']+' '+dfa['color']+' '+dfa['desc'] "
   ]
  },
  {
   "cell_type": "code",
   "execution_count": 70,
   "id": "da071815",
   "metadata": {},
   "outputs": [],
   "source": [
    "dfa['desc'] = dfa['desc'].apply(remove_stop_words) #remove stop words in the product descriptions using the remove_stop_words function."
   ]
  },
  {
   "cell_type": "code",
   "execution_count": 72,
   "id": "ae5b709b",
   "metadata": {},
   "outputs": [
    {
     "data": {
      "text/html": [
       "<div>\n",
       "<style scoped>\n",
       "    .dataframe tbody tr th:only-of-type {\n",
       "        vertical-align: middle;\n",
       "    }\n",
       "\n",
       "    .dataframe tbody tr th {\n",
       "        vertical-align: top;\n",
       "    }\n",
       "\n",
       "    .dataframe thead th {\n",
       "        text-align: right;\n",
       "    }\n",
       "</style>\n",
       "<table border=\"1\" class=\"dataframe\">\n",
       "  <thead>\n",
       "    <tr style=\"text-align: right;\">\n",
       "      <th></th>\n",
       "      <th>url</th>\n",
       "      <th>desc</th>\n",
       "      <th>gender</th>\n",
       "      <th>color</th>\n",
       "    </tr>\n",
       "  </thead>\n",
       "  <tbody>\n",
       "    <tr>\n",
       "      <th>0</th>\n",
       "      <td>https://www.ajio.com/netplay-checked-polo-t-sh...</td>\n",
       "      <td>men white checked polo tshirt</td>\n",
       "      <td>men</td>\n",
       "      <td>white</td>\n",
       "    </tr>\n",
       "    <tr>\n",
       "      <th>1</th>\n",
       "      <td>https://www.ajio.com/netplay-tapered-fit-flat-...</td>\n",
       "      <td>men navy tapered fit flatfront trousers</td>\n",
       "      <td>men</td>\n",
       "      <td>navy</td>\n",
       "    </tr>\n",
       "    <tr>\n",
       "      <th>2</th>\n",
       "      <td>https://www.ajio.com/the-indian-garage-co-stri...</td>\n",
       "      <td>men white striped slim fit shirt patch pocket</td>\n",
       "      <td>men</td>\n",
       "      <td>white</td>\n",
       "    </tr>\n",
       "    <tr>\n",
       "      <th>3</th>\n",
       "      <td>https://www.ajio.com/performax-heathered-crew-...</td>\n",
       "      <td>men charcoal heathered crewneck tshirt</td>\n",
       "      <td>men</td>\n",
       "      <td>charcoal</td>\n",
       "    </tr>\n",
       "    <tr>\n",
       "      <th>4</th>\n",
       "      <td>https://www.ajio.com/john-players-jeans-washed...</td>\n",
       "      <td>men jetblack washed skinny fit jeans whiskers</td>\n",
       "      <td>men</td>\n",
       "      <td>jetblack</td>\n",
       "    </tr>\n",
       "  </tbody>\n",
       "</table>\n",
       "</div>"
      ],
      "text/plain": [
       "                                                 url   \n",
       "0  https://www.ajio.com/netplay-checked-polo-t-sh...  \\\n",
       "1  https://www.ajio.com/netplay-tapered-fit-flat-...   \n",
       "2  https://www.ajio.com/the-indian-garage-co-stri...   \n",
       "3  https://www.ajio.com/performax-heathered-crew-...   \n",
       "4  https://www.ajio.com/john-players-jeans-washed...   \n",
       "\n",
       "                                            desc gender     color  \n",
       "0                  men white checked polo tshirt    men     white  \n",
       "1        men navy tapered fit flatfront trousers    men      navy  \n",
       "2  men white striped slim fit shirt patch pocket    men     white  \n",
       "3         men charcoal heathered crewneck tshirt    men  charcoal  \n",
       "4  men jetblack washed skinny fit jeans whiskers    men  jetblack  "
      ]
     },
     "execution_count": 72,
     "metadata": {},
     "output_type": "execute_result"
    }
   ],
   "source": [
    "dfa.head()"
   ]
  },
  {
   "cell_type": "markdown",
   "id": "cb069fb4",
   "metadata": {},
   "source": [
    "## Dataset Merging & Final Cleaning"
   ]
  },
  {
   "cell_type": "code",
   "execution_count": 75,
   "id": "8d041533",
   "metadata": {},
   "outputs": [],
   "source": [
    "df_consol = pd.concat([dfm[['url', 'desc']], dfa[['url', 'desc']]], axis=0) #merge the two datasets into one dataframe."
   ]
  },
  {
   "cell_type": "code",
   "execution_count": 77,
   "id": "f2204aea",
   "metadata": {},
   "outputs": [],
   "source": [
    "df_full.to_csv('../datasets/mercor_final_production_dataset_v1.csv', index_label='pid') #save the dataframe to csv as backup."
   ]
  },
  {
   "cell_type": "code",
   "execution_count": 1,
   "id": "899882be",
   "metadata": {},
   "outputs": [],
   "source": [
    "#replace any alphanumeric strings or numbers with empty string for better model performance.\n",
    "df_full['desc'] = df_full['desc'].str.replace(r'\\b\\w*\\d\\w*\\b', '', regex=True) "
   ]
  },
  {
   "cell_type": "markdown",
   "id": "da95af56",
   "metadata": {},
   "source": [
    "## Model Training & Testing\n",
    "Once the dataset has been cleaned and prepared, the doc2vec model is trained. The doc2vec model is an extension of the word2vec model which is a machine learning model to vectorize a word. The doc2vec model is able to vectorize a sentence as compared to the word2vec model which can vectorize a single word. This makes it easier to compute sentence similarities. For more information refer to the following paper.\n",
    "\n",
    "Le, Q. V., & Mikolov, T. (2014). Distributed Representations of Sentences and Documents. ArXiv. /abs/1405.4053\n",
    "[https://arxiv.org/abs/1405.4053]"
   ]
  },
  {
   "cell_type": "code",
   "execution_count": null,
   "id": "cbb92fa5",
   "metadata": {},
   "outputs": [],
   "source": [
    "df_shuf = shuffle(df_full) #random shuffle the dataframe\n",
    "df_shuf = df_shuf.reset_index(drop=True) #reset the index of the dataframe"
   ]
  },
  {
   "cell_type": "code",
   "execution_count": null,
   "id": "bb6ae6a4",
   "metadata": {},
   "outputs": [],
   "source": [
    "df_shuf.head()"
   ]
  },
  {
   "cell_type": "code",
   "execution_count": null,
   "id": "20430b17",
   "metadata": {},
   "outputs": [],
   "source": [
    "list_desc = list(df_shuf['desc']) #convert the Series of product descriptions into a python list."
   ]
  },
  {
   "cell_type": "code",
   "execution_count": null,
   "id": "618d7d14",
   "metadata": {},
   "outputs": [],
   "source": [
    "#Convert the list into a model suitable format for training.\n",
    "tag_data = [TaggedDocument(words=word_tokenize(str(_d).lower()), tags=[str(i)]) for i, _d in enumerate(list_desc)]"
   ]
  },
  {
   "cell_type": "code",
   "execution_count": null,
   "id": "004144fc",
   "metadata": {},
   "outputs": [],
   "source": [
    "#initialize the model hyperparameters.\n",
    "workers = multiprocessing.cpu_count() #the number of CPU cores for training\n",
    "epochs=30 #the number of iterations for which to train the data.\n",
    "vector_size = 12 #the size of the vectorized representations of the sentences.\n",
    "min_count = 2 #the minimum occurences of a word to be considered for including that word into the vector representation."
   ]
  },
  {
   "cell_type": "code",
   "execution_count": null,
   "id": "35140e48",
   "metadata": {},
   "outputs": [],
   "source": [
    "model = Doc2Vec(vector_size=vector_size, min_count=min_count, epochs=epochs, workers=workers) #initialize the model."
   ]
  },
  {
   "cell_type": "code",
   "execution_count": null,
   "id": "4c46b275",
   "metadata": {},
   "outputs": [],
   "source": [
    "model.build_vocab(tag_data) #build a vocabulary that is required by the model.\n",
    "#vocabulary is the number of occurences of each unique word in our dataset."
   ]
  },
  {
   "cell_type": "code",
   "execution_count": null,
   "id": "d62dfed6",
   "metadata": {},
   "outputs": [],
   "source": [
    "model.train(tag_data_new, total_examples=model.corpus_count, epochs=model.epochs) #train the model with the hyperparameters."
   ]
  },
  {
   "cell_type": "code",
   "execution_count": null,
   "id": "4478a4f2",
   "metadata": {},
   "outputs": [],
   "source": [
    "model.save('mercor_fashion_model.model') #after model training, save the model"
   ]
  },
  {
   "cell_type": "markdown",
   "id": "db8b4a9c",
   "metadata": {},
   "source": [
    "## Testing the model"
   ]
  },
  {
   "cell_type": "code",
   "execution_count": 3,
   "id": "7cb60a94",
   "metadata": {},
   "outputs": [],
   "source": [
    "test_model = Doc2Vec.load('mercor_fashion_model.model') #load the saved model."
   ]
  },
  {
   "cell_type": "code",
   "execution_count": 4,
   "id": "5e8b85a1",
   "metadata": {},
   "outputs": [],
   "source": [
    "test_string = \"women lemon graphic print roundneck top\"\n",
    "test_string_lst = test_string.split()"
   ]
  },
  {
   "cell_type": "code",
   "execution_count": 6,
   "id": "593d20c8",
   "metadata": {},
   "outputs": [],
   "source": [
    "vec_string = test_model.infer_vector(test_string_lst) #get the vector representation of our test string from the model."
   ]
  },
  {
   "cell_type": "code",
   "execution_count": 8,
   "id": "03351fa0",
   "metadata": {},
   "outputs": [],
   "source": [
    "ranks = test_model.dv.most_similar(vec_string) #returns the 10 most similar sentences from the dataset."
   ]
  },
  {
   "cell_type": "code",
   "execution_count": 9,
   "id": "ba871c57",
   "metadata": {},
   "outputs": [
    {
     "data": {
      "text/plain": [
       "[('652492', 0.9663132429122925),\n",
       " ('821398', 0.9590542912483215),\n",
       " ('688935', 0.9586809277534485),\n",
       " ('573220', 0.9551078081130981),\n",
       " ('739014', 0.9541603922843933),\n",
       " ('572264', 0.9533801674842834),\n",
       " ('148495', 0.9511833786964417),\n",
       " ('800582', 0.9510716795921326),\n",
       " ('281112', 0.9483296275138855),\n",
       " ('621408', 0.9480392336845398)]"
      ]
     },
     "execution_count": 9,
     "metadata": {},
     "output_type": "execute_result"
    }
   ],
   "source": [
    "ranks"
   ]
  },
  {
   "cell_type": "code",
   "execution_count": 12,
   "id": "f7cac8a6",
   "metadata": {},
   "outputs": [
    {
     "name": "stdout",
     "output_type": "stream",
     "text": [
      "url     https://www.ajio.com/kotty-colourblock-round-n...\n",
      "desc              women pink colourblock roundneck tshirt\n",
      "Name: 652492, dtype: object\n",
      "url     https://www.ajio.com/ovs-textured-panelled-rou...\n",
      "desc       women burgundy textured panelled roundneck top\n",
      "Name: 821398, dtype: object\n",
      "url     https://www.ajio.com/fusion-geometric-print-st...\n",
      "desc    women grey geometric print straight kurta high...\n",
      "Name: 688935, dtype: object\n",
      "url     https://www.ajio.com/project-eve-round-neck-to...\n",
      "desc        women rust roundneck top placement embroidery\n",
      "Name: 573220, dtype: object\n",
      "url     https://www.ajio.com/project-eve-sleeveless-po...\n",
      "desc              women red sleeveless polkadot print top\n",
      "Name: 739014, dtype: object\n",
      "url     https://www.myntra.com/dresses/mayra/mayra-pin...\n",
      "desc               pink animal print ruffles detail dress\n",
      "Name: 572264, dtype: object\n",
      "url     https://www.ajio.com/style-quotient-animal-pri...\n",
      "desc                  women brown animal print fitted top\n",
      "Name: 148495, dtype: object\n",
      "url     https://www.ajio.com/ishin-embellished-straigh...\n",
      "desc            women blue embellished straight kurta set\n",
      "Name: 800582, dtype: object\n",
      "url     https://www.ajio.com/kica-textured-round-neck-...\n",
      "desc         women pink textured roundneck sleeveless top\n",
      "Name: 281112, dtype: object\n",
      "url     https://www.myntra.com/tops/ishin/ishin-pink--...\n",
      "desc           pink red tropical ruffles regular crop top\n",
      "Name: 621408, dtype: object\n"
     ]
    }
   ],
   "source": [
    "for ind, similarity in ranks:\n",
    "    print(df_shuf.iloc[int(ind)])"
   ]
  },
  {
   "cell_type": "code",
   "execution_count": null,
   "id": "48b90a7e",
   "metadata": {},
   "outputs": [],
   "source": []
  }
 ],
 "metadata": {
  "celltoolbar": "Raw Cell Format",
  "kernelspec": {
   "display_name": "Python 3 (ipykernel)",
   "language": "python",
   "name": "python3"
  },
  "language_info": {
   "codemirror_mode": {
    "name": "ipython",
    "version": 3
   },
   "file_extension": ".py",
   "mimetype": "text/x-python",
   "name": "python",
   "nbconvert_exporter": "python",
   "pygments_lexer": "ipython3",
   "version": "3.9.13"
  }
 },
 "nbformat": 4,
 "nbformat_minor": 5
}
